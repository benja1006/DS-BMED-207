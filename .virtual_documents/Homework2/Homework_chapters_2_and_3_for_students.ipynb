import numpy as np
import matplotlib.pyplot as plt
%matplotlib widget

from scipy.ndimage import convolve


















Istack0 = np.load('Istack0.npy')
Istack1 = np.load('Istack1.npy')

# save three images
I = Istack0[0]/255.0
J = Istack0[1]/255.0
K = Istack1[0]/255.0


# visualize
fig,ax = plt.subplots(1,3)
ax[0].imshow(I)
ax[0].set_title('Erythroblast 0')
ax[1].imshow(J)
ax[1].set_title('Erythroblast 1')
ax[2].imshow(K)
ax[2].set_title('Lymphocyte 0')




# your code here





# your code here








I = np.load('coronal_mri.npy')
fig,ax = plt.subplots()
ax.imshow(I)


# copy and modify GMM code here











J0 = np.load('chest.npy')
J0 = J0/255.0
fig,ax = plt.subplots()
ax.imshow(J0,cmap='gray',vmin=0,vmax=1)
ax.set_title('Original image')

J = J0 + np.random.randn(*J0.shape)*0.05
fig,ax = plt.subplots()
ax.imshow(J,cmap='gray',vmin=0,vmax=1)
ax.set_title('Noisy image')


# initialize some parameters
niter = 200
ep = 1e-2
gamma = 1e-0

# save energy for plotting
Esave = []

# initial guess
I = np.copy(J)

# convolution kernel to compute the discrete Laplacian
k = np.array([[0.0,1.0,0.0],
             [1.0,-4.0,1.0],
             [0.0,1.0,0.0]])

fig,ax = plt.subplots(1,3,figsize=(10,4))
for it in range(niter):
    
    # calculate derivative
    I_0,I_1 = np.gradient(I)
    
    # calculate objective function
    E = np.sum(   # ... your code here
    Esave.append(E)
    
    # calculate Laplacian
    DeltaI = # ... your code here
    
    # calculate gradient
    gradient = # ... your code here
    
    
    # update
    I = I - ep*gradient
    
    
    # draw
    if not it%10 or it == niter-1:
        ax[0].cla()
        ax[0].plot(Esave)
        ax[0].set_title('Objective function')
        ax[1].cla()
        ax[1].imshow(I,cmap='gray',vmin=0,vmax=1)
        ax[1].set_title('Current guess')
        ax[2].cla()
        ax[2].imshow(J,cmap='gray',vmin=0,vmax=1)
        ax[2].set_title('Ground truth')
        fig.canvas.draw()














# initialize some parameters
niter = 250
ep = 1e-2
gamma = 1e-1
p = 0.51

# save energy for plotting
Esave = []

# initial guess
I = np.copy(J)


fig,ax = plt.subplots(1,3,figsize=(10,4))
for it in range(niter):
    
    # calculate derivative
    I_0,I_1 = np.gradient(I)
    
    # calculate objective function
    E = np.sum( # ... your code here
    Esave.append(E)
    
    # calculate the norm squared of the gradient
    norm2dI = # ... your code here
    
    # raise the norm squared to the power p-1
    norm2pm1dI = # ... your code here
    
    # multiply by the image gradient
    norm2pm1dI_times_I_0 = # ... your code here
    norm2pm1dI_times_I_1 = # ... your code here
    
    # compute the divergence
    div_norm2pm1dI_times_dI = np.gradient(norm2pm1dI_times_I_0,axis=0)+ np.gradient(norm2pm1dI_times_I_1,axis=1)
    
    # calculate gradient
    gradient = # ... your code here
    
    
    # update
    I = I - ep*gradient
    
    
    # draw
    if not it%10 or it == niter-1:
        ax[0].cla()
        ax[0].plot(Esave)
        ax[0].set_title('Objective function')
        ax[1].cla()
        ax[1].imshow(I,cmap='gray',vmin=0,vmax=1)
        ax[1].set_title('Current guess')
        ax[2].cla()
        ax[2].imshow(J,cmap='gray',vmin=0,vmax=1)
        ax[2].set_title('Ground truth')
        fig.canvas.draw()








# your code here









